{
 "cells": [
  {
   "cell_type": "code",
   "execution_count": 20,
   "id": "2954db2d",
   "metadata": {},
   "outputs": [],
   "source": [
    "import os\n",
    "from sklearn.model_selection import train_test_split\n",
    "import shutil"
   ]
  },
  {
   "cell_type": "code",
   "execution_count": 21,
   "id": "bd156136",
   "metadata": {},
   "outputs": [],
   "source": [
    "# Set the directory where the data is stored\n",
    "data_dir = \"Data/dataset\"\n",
    "\n",
    "# Define the labels\n",
    "labels= os.listdir(data_dir)\n",
    "num_classes = len(labels)\n",
    "\n",
    "# Initialize empty lists to store images and labels\n",
    "images = []\n",
    "category = []\n",
    "\n",
    "# Load images and labels\n",
    "for label in labels:\n",
    "    path = os.path.join(data_dir, label)\n",
    "    for img in os.listdir(path):\n",
    "        img_path = os.path.join(path, img)\n",
    "        images.append(img_path)\n",
    "        category.append(label)"
   ]
  },
  {
   "cell_type": "code",
   "execution_count": 22,
   "id": "9ad37e80",
   "metadata": {},
   "outputs": [],
   "source": [
    "# Split the data into training and test sets\n",
    "X_train, X_test, y_train, y_test = train_test_split(images, category, test_size=0.1, random_state=42, stratify=category)\n",
    "\n",
    "# Split the data into training and dev sets\n",
    "X_train, X_dev, y_train, y_dev = train_test_split(X_train, y_train, test_size=0.1, random_state=42, stratify=y_train)"
   ]
  },
  {
   "cell_type": "code",
   "execution_count": 23,
   "id": "2f29f079",
   "metadata": {},
   "outputs": [],
   "source": [
    "# Create temporary directories for train and test images\n",
    "train_dir = \"Data/train\"\n",
    "test_dir = \"Data/test\"\n",
    "dev_dir = \"Data/dev\"\n",
    "\n",
    "os.makedirs(train_dir, exist_ok=True)\n",
    "os.makedirs(test_dir, exist_ok=True)\n",
    "os.makedirs(dev_dir, exist_ok=True)\n",
    "\n",
    "# Copy train images to temporary directory\n",
    "for img_path, label in zip(X_train, y_train):\n",
    "    class_dir = os.path.join(train_dir, label)\n",
    "    os.makedirs(class_dir, exist_ok=True)\n",
    "    shutil.copy(img_path, os.path.join(class_dir, os.path.basename(img_path)))\n",
    "\n",
    "# Copy test images to temporary directory\n",
    "for img_path, label in zip(X_test, y_test):\n",
    "    class_dir = os.path.join(test_dir, label)\n",
    "    os.makedirs(class_dir, exist_ok=True)\n",
    "    shutil.copy(img_path, os.path.join(class_dir, os.path.basename(img_path)))\n",
    "    \n",
    "# Copy dev images to temporary directory\n",
    "for img_path, label in zip(X_dev, y_dev):\n",
    "    class_dir = os.path.join(dev_dir, label)\n",
    "    os.makedirs(class_dir, exist_ok=True)\n",
    "    shutil.copy(img_path, os.path.join(class_dir, os.path.basename(img_path)))\n"
   ]
  },
  {
   "cell_type": "code",
   "execution_count": null,
   "id": "39f95203",
   "metadata": {},
   "outputs": [],
   "source": []
  }
 ],
 "metadata": {
  "kernelspec": {
   "display_name": "Python 3 (ipykernel)",
   "language": "python",
   "name": "python3"
  },
  "language_info": {
   "codemirror_mode": {
    "name": "ipython",
    "version": 3
   },
   "file_extension": ".py",
   "mimetype": "text/x-python",
   "name": "python",
   "nbconvert_exporter": "python",
   "pygments_lexer": "ipython3",
   "version": "3.10.9"
  }
 },
 "nbformat": 4,
 "nbformat_minor": 5
}
